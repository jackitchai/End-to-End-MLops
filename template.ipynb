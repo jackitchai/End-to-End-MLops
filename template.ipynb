{
 "cells": [
  {
   "cell_type": "code",
   "execution_count": 1,
   "metadata": {},
   "outputs": [],
   "source": [
    "import os\n",
    "from pathlib import Path\n",
    "import logging\n"
   ]
  },
  {
   "cell_type": "code",
   "execution_count": 2,
   "metadata": {},
   "outputs": [],
   "source": [
    "logging.basicConfig(level=logging.INFO, format='[%(asctime)s]: %(message)s:')"
   ]
  },
  {
   "cell_type": "code",
   "execution_count": 8,
   "metadata": {},
   "outputs": [],
   "source": [
    "project_name = \"mlProject\"\n",
    "\n",
    "\n",
    "list_of_files = [\n",
    "    \".github/workflows/.gitkeep\",\n",
    "    f\"src/{project_name}/__init__.py\",\n",
    "    f\"src/{project_name}/components/__init__.py\",\n",
    "    f\"src/{project_name}/utils/__init__.py\",\n",
    "    f\"src/{project_name}/utils/common.py\",\n",
    "    f\"src/{project_name}/config/__init__.py\",\n",
    "    f\"src/{project_name}/config/configuration.py\",\n",
    "    f\"src/{project_name}/pipeline/__init__.py\",\n",
    "    f\"src/{project_name}/entity/__init__.py\",\n",
    "    f\"src/{project_name}/entity/config_entity.py\",\n",
    "    f\"src/{project_name}/constants/__init__.py\",\n",
    "    \"config/config.yaml\",\n",
    "    \"params.yaml\",\n",
    "    \"schema.yaml\",\n",
    "    \"main.py\",\n",
    "    \"app.py\",\n",
    "    \"Dockerfile\",\n",
    "    \"requirements.txt\",\n",
    "    \"setup.ipynb\",\n",
    "    \"research/trials.ipynb\",\n",
    "    \"templates/index.html\",\n",
    "]\n"
   ]
  },
  {
   "cell_type": "code",
   "execution_count": 7,
   "metadata": {},
   "outputs": [
    {
     "name": "stderr",
     "output_type": "stream",
     "text": [
      "[2024-05-20 15:24:51,159]: Creating directory; .github/workflows for the file: .gitkeep:\n",
      "[2024-05-20 15:24:51,161]: Creating empty file: .github/workflows/.gitkeep:\n",
      "[2024-05-20 15:24:51,162]: Creating directory; src/mlProject for the file: __init__.py:\n",
      "[2024-05-20 15:24:51,163]: Creating empty file: src/mlProject/__init__.py:\n",
      "[2024-05-20 15:24:51,163]: Creating directory; src/mlProject/components for the file: __init__.py:\n",
      "[2024-05-20 15:24:51,164]: Creating empty file: src/mlProject/components/__init__.py:\n",
      "[2024-05-20 15:24:51,164]: Creating directory; src/mlProject/utils for the file: __init__.py:\n",
      "[2024-05-20 15:24:51,165]: Creating empty file: src/mlProject/utils/__init__.py:\n",
      "[2024-05-20 15:24:51,165]: Creating directory; src/mlProject/utils for the file: common.py:\n",
      "[2024-05-20 15:24:51,166]: Creating empty file: src/mlProject/utils/common.py:\n",
      "[2024-05-20 15:24:51,166]: Creating directory; src/mlProject/config for the file: __init__.py:\n",
      "[2024-05-20 15:24:51,167]: Creating empty file: src/mlProject/config/__init__.py:\n",
      "[2024-05-20 15:24:51,167]: Creating directory; src/mlProject/config for the file: configuration.py:\n",
      "[2024-05-20 15:24:51,168]: Creating empty file: src/mlProject/config/configuration.py:\n",
      "[2024-05-20 15:24:51,168]: Creating directory; src/mlProject/pipeline for the file: __init__.py:\n",
      "[2024-05-20 15:24:51,169]: Creating empty file: src/mlProject/pipeline/__init__.py:\n",
      "[2024-05-20 15:24:51,169]: Creating directory; src/mlProject/entity for the file: __init__.py:\n",
      "[2024-05-20 15:24:51,170]: Creating empty file: src/mlProject/entity/__init__.py:\n",
      "[2024-05-20 15:24:51,170]: Creating directory; src/mlProject/entity for the file: config_entity.py:\n",
      "[2024-05-20 15:24:51,171]: Creating empty file: src/mlProject/entity/config_entity.py:\n",
      "[2024-05-20 15:24:51,172]: Creating directory; src/mlProject/constants for the file: __init__.py:\n",
      "[2024-05-20 15:24:51,173]: Creating empty file: src/mlProject/constants/__init__.py:\n",
      "[2024-05-20 15:24:51,173]: Creating directory; config for the file: config.yaml:\n",
      "[2024-05-20 15:24:51,174]: Creating empty file: config/config.yaml:\n",
      "[2024-05-20 15:24:51,174]: Creating empty file: params.yaml:\n",
      "[2024-05-20 15:24:51,174]: Creating empty file: schema.yaml:\n",
      "[2024-05-20 15:24:51,175]: Creating empty file: main.py:\n",
      "[2024-05-20 15:24:51,176]: Creating empty file: app.py:\n",
      "[2024-05-20 15:24:51,177]: Creating empty file: Dockerfile:\n",
      "[2024-05-20 15:24:51,177]: Creating empty file: requirements.txt:\n",
      "[2024-05-20 15:24:51,178]: Creating empty file: setup.ipynb:\n",
      "[2024-05-20 15:24:51,179]: Creating directory; research for the file: trials.ipynb:\n",
      "[2024-05-20 15:24:51,179]: Creating empty file: research/trials.ipynb:\n",
      "[2024-05-20 15:24:51,180]: Creating directory; templates for the file: index.html:\n",
      "[2024-05-20 15:24:51,181]: Creating empty file: templates/index.html:\n"
     ]
    }
   ],
   "source": [
    "for filepath in list_of_files:\n",
    "    filepath = Path(filepath)\n",
    "    filedir, filename = os.path.split(filepath)\n",
    "\n",
    "\n",
    "    if filedir !=\"\":\n",
    "        os.makedirs(filedir, exist_ok=True)\n",
    "        logging.info(f\"Creating directory; {filedir} for the file: {filename}\")\n",
    "\n",
    "    if (not os.path.exists(filepath)) or (os.path.getsize(filepath) == 0):\n",
    "        with open(filepath, \"w\") as f:\n",
    "            pass\n",
    "            logging.info(f\"Creating empty file: {filepath}\")\n",
    "\n",
    "\n",
    "    else:\n",
    "        logging.info(f\"{filename} is already exists\")"
   ]
  }
 ],
 "metadata": {
  "kernelspec": {
   "display_name": "Python 3",
   "language": "python",
   "name": "python3"
  },
  "language_info": {
   "codemirror_mode": {
    "name": "ipython",
    "version": 3
   },
   "file_extension": ".py",
   "mimetype": "text/x-python",
   "name": "python",
   "nbconvert_exporter": "python",
   "pygments_lexer": "ipython3",
   "version": "3.12.2"
  }
 },
 "nbformat": 4,
 "nbformat_minor": 2
}
